{
  "nbformat": 4,
  "nbformat_minor": 0,
  "metadata": {
    "colab": {
      "name": "ML_ex3_GuyKornblit_308224948.ipynb",
      "provenance": [],
      "collapsed_sections": [
        "j8VK55I4MQjI"
      ],
      "toc_visible": true,
      "include_colab_link": true
    },
    "kernelspec": {
      "name": "python3",
      "display_name": "Python 3"
    },
    "language_info": {
      "name": "python"
    },
    "gpuClass": "standard"
  },
  "cells": [
    {
      "cell_type": "markdown",
      "metadata": {
        "id": "view-in-github",
        "colab_type": "text"
      },
      "source": [
        "<a href=\"https://colab.research.google.com/github/natanlubman/studies_ML/blob/main/ML_ex3_GuyKornblit_308224948.ipynb\" target=\"_parent\"><img src=\"https://colab.research.google.com/assets/colab-badge.svg\" alt=\"Open In Colab\"/></a>"
      ]
    },
    {
      "cell_type": "markdown",
      "source": [
        "# Part 1 – Aim: ANN from Scratch (40 Points)"
      ],
      "metadata": {
        "id": "lnEhjAmAM9IL"
      }
    },
    {
      "cell_type": "markdown",
      "source": [
        "1. Read chapter 11: “Implementing a Multi-layer Artificial Neural Network from Scratch” of the book “Machine Learning with PyTorch and Scikit-Learn” by Raschka et al. (2022)\n",
        "\n",
        "2. Given the code of chapter 11 that can be found in:\n",
        "https://github.com/rasbt/machine-learning-book/blob/main/ch11/ch11.ipynb\n",
        "your main goal is to extend the code to address two hidden layers (instead of a single hidden layer). Extend the code by creating a local copy of the ch11.\n",
        "ipynb, perform the revisions, and submit the GitHub link to your revised code.\n",
        "\n",
        "\n",
        "3. Apply the code of section 2 with the two layers for classifying handwritten digits MNIST dataset using the same full ANN architecture presented in the class (see “Solution 1: A plain deep NN”) and evaluate its prediction performance (macro AUC) using Train(70%)/Test(30%) validation procedure. \n"
      ],
      "metadata": {
        "id": "QOmjr6JStbVK"
      }
    },
    {
      "cell_type": "code",
      "source": [
        "import os \n",
        "import random\n",
        "import numpy as np \n",
        "import tensorflow as tf\n",
        "import torch\n",
        "\n",
        "def seed_everything(seed=123):\n",
        "    random.seed(seed)\n",
        "    os.environ['PYTHONHASHSEED'] = str(seed)\n",
        "    np.random.seed(seed)\n",
        "\n",
        "    tf.random.set_seed(seed)    \n",
        "    torch.manual_seed(seed)\n",
        "    torch.cuda.manual_seed(seed)\n",
        "    torch.backends.cudnn.deterministic = True\n",
        "    torch.backends.cudnn.benchmark = False\n",
        "\n",
        "seed_everything(123)"
      ],
      "metadata": {
        "id": "ipfI-hBAlGcM"
      },
      "execution_count": null,
      "outputs": []
    },
    {
      "cell_type": "markdown",
      "source": [
        "## Load MNIST data"
      ],
      "metadata": {
        "id": "C9tzYbRVu-wc"
      }
    },
    {
      "cell_type": "code",
      "source": [
        "from sklearn.datasets import fetch_openml\n",
        "\n",
        "\n",
        "X, y = fetch_openml('mnist_784', version=1, return_X_y=True)\n",
        "X = X.values\n",
        "X = ((X / 255.) - .5) * 2\n",
        "\n",
        "y = y.astype(int).values\n",
        "\n",
        "print(X.shape)\n",
        "print(y.shape)"
      ],
      "metadata": {
        "colab": {
          "base_uri": "https://localhost:8080/"
        },
        "id": "wnyLDmKVu02z",
        "outputId": "f60adf01-873f-42cf-fa1a-7ee75bf70db0"
      },
      "execution_count": null,
      "outputs": [
        {
          "output_type": "stream",
          "name": "stdout",
          "text": [
            "(70000, 784)\n",
            "(70000,)\n"
          ]
        }
      ]
    },
    {
      "cell_type": "code",
      "source": [
        "from sklearn.model_selection import train_test_split\n",
        "\n",
        "X_train, X_test, y_train, y_test = train_test_split(X, y, \n",
        "                                                  test_size=0.3, \n",
        "                                                  random_state=123, \n",
        "                                                  stratify=y)\n",
        "\n",
        "# optional to free up some memory by deleting non-used arrays:\n",
        "del X, y"
      ],
      "metadata": {
        "id": "F4kPog0Eu9PE"
      },
      "execution_count": null,
      "outputs": []
    },
    {
      "cell_type": "code",
      "source": [
        "NUM_FEATURES = 28 * 28\n",
        "NUM_HIDDEN = 50\n",
        "NUM_CLASSES = 10\n",
        "NUM_EPOCHS = 50\n",
        "BATCH_SIZE = 100\n",
        "LR = 0.1"
      ],
      "metadata": {
        "id": "h7a6P9j3NxFr"
      },
      "execution_count": null,
      "outputs": []
    },
    {
      "cell_type": "markdown",
      "source": [
        "## Methods for training"
      ],
      "metadata": {
        "id": "6LfoGWDjuY1u"
      }
    },
    {
      "cell_type": "code",
      "source": [
        "import numpy as np\n",
        "\n",
        "def minibatch_generator(X, y, BATCH_SIZE):\n",
        "    indices = np.arange(X.shape[0])\n",
        "    np.random.shuffle(indices)\n",
        "\n",
        "    for start_idx in range(0, indices.shape[0] - BATCH_SIZE + 1, BATCH_SIZE):\n",
        "        batch_idx = indices[start_idx:start_idx + BATCH_SIZE]\n",
        "        yield X[batch_idx], y[batch_idx]\n",
        "\n",
        "def mse_loss(targets, probas, num_labels=10):\n",
        "    onehot_targets = int_to_onehot(targets, num_labels=num_labels)\n",
        "    return np.mean((onehot_targets - probas)**2)\n",
        "\n",
        "def accuracy(targets, predicted_labels):\n",
        "    return np.mean(predicted_labels == targets) "
      ],
      "metadata": {
        "id": "oG4EqlzGuXTd"
      },
      "execution_count": null,
      "outputs": []
    },
    {
      "cell_type": "code",
      "source": [
        "def compute_mse_and_acc(nnet, X, y, num_labels=10, minibatch_size=BATCH_SIZE):\n",
        "    mse, correct_pred, num_examples = 0., 0, 0\n",
        "    minibatch_gen = minibatch_generator(X, y, minibatch_size)\n",
        "        \n",
        "    for i, (features, targets) in enumerate(minibatch_gen):\n",
        "\n",
        "        probas = nnet.forward(features)[-1]\n",
        "        predicted_labels = np.argmax(probas, axis=1)\n",
        "        \n",
        "        onehot_targets = int_to_onehot(targets, num_labels=num_labels)\n",
        "        loss = np.mean((onehot_targets - probas)**2)\n",
        "        correct_pred += (predicted_labels == targets).sum()\n",
        "        \n",
        "        num_examples += targets.shape[0]\n",
        "        mse += loss\n",
        "\n",
        "    mse = mse/i\n",
        "    acc = correct_pred/num_examples\n",
        "    return mse, acc"
      ],
      "metadata": {
        "id": "cA4LwWtmUik7"
      },
      "execution_count": null,
      "outputs": []
    },
    {
      "cell_type": "code",
      "source": [
        "def sanity_check(model, X_valid, y_valid):\n",
        "    probas = model.forward(X_valid)[-1]\n",
        "    mse = mse_loss(y_valid, probas)\n",
        "\n",
        "    predicted_labels = np.argmax(probas, axis=1)\n",
        "    acc = accuracy(y_valid, predicted_labels)\n",
        "\n",
        "    print(f'Initial validation MSE: {mse:.1f}')\n",
        "    print(f'Initial validation accuracy: {acc*100:.1f}%')"
      ],
      "metadata": {
        "id": "GxFqPxFsNRc0"
      },
      "execution_count": null,
      "outputs": []
    },
    {
      "cell_type": "code",
      "source": [
        "def train_single_layer(model, X_train, y_train, X_valid, y_valid, num_epochs, learning_rate=0.1):\n",
        "    epoch_loss = []\n",
        "    epoch_train_acc = []\n",
        "    epoch_valid_acc = []\n",
        "    \n",
        "    for e in range(num_epochs):\n",
        "\n",
        "        # iterate over minibatches\n",
        "        minibatch_gen = minibatch_generator(X_train, y_train, BATCH_SIZE)\n",
        "\n",
        "        for X_train_mini, y_train_mini in minibatch_gen:\n",
        "            \n",
        "            #### Compute outputs ####\n",
        "            a_h, a_out = model.forward(X_train_mini)\n",
        "\n",
        "            #### Compute gradients ####\n",
        "            d_loss__d_w_out, d_loss__d_b_out, d_loss__d_w_h, d_loss__d_b_h = \\\n",
        "                model.backward(X_train_mini, a_h, a_out, y_train_mini)\n",
        "\n",
        "            #### Update weights ####\n",
        "            model.weight_h -= learning_rate * d_loss__d_w_h\n",
        "            model.bias_h -= learning_rate * d_loss__d_b_h\n",
        "            model.weight_out -= learning_rate * d_loss__d_w_out\n",
        "            model.bias_out -= learning_rate * d_loss__d_b_out\n",
        "        \n",
        "        #### Epoch Logging ####        \n",
        "        train_mse, train_acc = compute_mse_and_acc(model, X_train, y_train)\n",
        "        valid_mse, valid_acc = compute_mse_and_acc(model, X_valid, y_valid)\n",
        "        train_acc, valid_acc = train_acc*100, valid_acc*100\n",
        "        epoch_train_acc.append(train_acc)\n",
        "        epoch_valid_acc.append(valid_acc)\n",
        "        epoch_loss.append(train_mse)\n",
        "        print(f'Epoch: {e+1:03d}/{num_epochs:03d} '\n",
        "              f'| Train MSE: {train_mse:.2f} '\n",
        "              f'| Train Acc: {train_acc:.2f}% '\n",
        "              f'| Valid Acc: {valid_acc:.2f}%')\n",
        "\n",
        "    return epoch_loss, epoch_train_acc, epoch_valid_acc\n",
        "\n",
        "\n",
        "\n",
        "def train_two_layers(model, X_train, y_train, X_valid, y_valid, num_epochs, learning_rate=0.1):\n",
        "    \n",
        "    epoch_loss = []\n",
        "    epoch_train_acc = []\n",
        "    epoch_valid_acc = []\n",
        "    \n",
        "    for e in range(num_epochs):\n",
        "\n",
        "        # iterate over minibatches\n",
        "        minibatch_gen = minibatch_generator(X_train, y_train, BATCH_SIZE)\n",
        "\n",
        "        for X_train_mini, y_train_mini in minibatch_gen:\n",
        "            \n",
        "            #### Compute outputs ####\n",
        "            a_h1, a_h2, a_out = model.forward(X_train_mini)\n",
        "\n",
        "            #### Compute gradients ####\n",
        "            (d_loss__d_w_out, d_loss__d_b_out, \n",
        "            d_loss__d_w_h1, d_loss__d_b_h1,\n",
        "            d_loss__d_w_h2, d_loss__d_b_h2) = \\\n",
        "                model.backward(X_train_mini, a_h1, a_h2, a_out, y_train_mini)\n",
        "\n",
        "            #### Update weights ####\n",
        "            model.weight_h1 -= learning_rate * d_loss__d_w_h1\n",
        "            model.bias_h1 -= learning_rate * d_loss__d_b_h1\n",
        "            \n",
        "            model.weight_h2 -= learning_rate * d_loss__d_w_h2\n",
        "            model.bias_h2 -= learning_rate * d_loss__d_b_h2\n",
        "            \n",
        "            model.weight_out -= learning_rate * d_loss__d_w_out\n",
        "            model.bias_out -= learning_rate * d_loss__d_b_out\n",
        "        \n",
        "        #### Epoch Logging ####        \n",
        "        train_mse, train_acc = compute_mse_and_acc(model, X_train, y_train)\n",
        "        valid_mse, valid_acc = compute_mse_and_acc(model, X_valid, y_valid)\n",
        "        train_acc, valid_acc = train_acc*100, valid_acc*100\n",
        "        epoch_train_acc.append(train_acc)\n",
        "        epoch_valid_acc.append(valid_acc)\n",
        "        epoch_loss.append(train_mse)\n",
        "        print(f'Epoch: {e+1:03d}/{num_epochs:03d} '\n",
        "              f'| Train MSE: {train_mse:.2f} '\n",
        "              f'| Train Acc: {train_acc:.2f}% '\n",
        "              f'| Valid Acc: {valid_acc:.2f}%')\n",
        "\n",
        "    return epoch_loss, epoch_train_acc, epoch_valid_acc\n"
      ],
      "metadata": {
        "id": "Sz5JgYWjQKn7"
      },
      "execution_count": null,
      "outputs": []
    },
    {
      "cell_type": "code",
      "source": [
        "import matplotlib.pyplot as plt\n",
        "def plot_MSE(epoch_loss, title):\n",
        "    plt.plot(range(len(epoch_loss)), epoch_loss)\n",
        "    plt.ylabel('Mean squared error')\n",
        "    plt.xlabel('Epoch')\n",
        "    #plt.savefig('figures/11_07.png', dpi=300)\n",
        "    plt.title(title)\n",
        "    plt.show()\n",
        "\n",
        "def plot_accuracy(epoch_train_acc, epoch_valid_acc, title):\n",
        "    plt.plot(range(len(epoch_train_acc)), epoch_train_acc,\n",
        "            label='Training')\n",
        "    plt.plot(range(len(epoch_valid_acc)), epoch_valid_acc,\n",
        "            label='Validation')\n",
        "    plt.ylabel('Accuracy')\n",
        "    plt.xlabel('Epochs')\n",
        "    plt.legend(loc='lower right')\n",
        "    plt.title(title)\n",
        "    plt.show()"
      ],
      "metadata": {
        "id": "PQy1ghzTeKwq"
      },
      "execution_count": null,
      "outputs": []
    },
    {
      "cell_type": "markdown",
      "source": [
        "## Model Implementation"
      ],
      "metadata": {
        "id": "0kP6UwuVvFVS"
      }
    },
    {
      "cell_type": "code",
      "source": [
        "import numpy as np\n",
        "\n",
        "def sigmoid(z):\n",
        "    return 1. / (1. + np.exp(-z))\n",
        "\n",
        "def int_to_onehot(y, num_labels):\n",
        "    ary = np.zeros((y.shape[0], num_labels))\n",
        "    for i, val in enumerate(y):\n",
        "        ary[i, val] = 1\n",
        "    return ary\n",
        "\n",
        "class TwoLayersMLP:\n",
        "    def __init__(self, num_features, num_hidden, num_classes, random_seed=123):\n",
        "        super().__init__()\n",
        "        self.num_classes = num_classes\n",
        "\n",
        "        # hidden\n",
        "        rng = np.random.RandomState(random_seed)\n",
        "\n",
        "        self.weight_h1 = rng.normal(\n",
        "        loc=0.0, scale=0.1, size=(num_hidden, num_features))\n",
        "        self.bias_h1 = np.zeros(num_hidden)\n",
        "\n",
        "        self.weight_h2 = rng.normal(\n",
        "        loc=0.0, scale=0.1, size=(num_hidden, num_hidden))\n",
        "        self.bias_h2 = np.zeros(num_hidden)\n",
        "\n",
        "        # output\n",
        "        self.weight_out = rng.normal(\n",
        "        loc=0.0, scale=0.1, size=(num_classes, num_hidden))\n",
        "        self.bias_out = np.zeros(num_classes)\n",
        "\n",
        "\n",
        "    def forward(self, x):\n",
        "        # Hidden layer\n",
        "        # input dim: [n_examples, n_features] dot [n_hidden, n_features].T\n",
        "        # output dim: [n_examples, n_hidden]\n",
        "        z_h1 = np.dot(x, self.weight_h1.T) + self.bias_h1\n",
        "        a_h1 = sigmoid(z_h1)\n",
        "\n",
        "        # Second Hidden Layer\n",
        "        # input dim: [n_examples, n_hidden] dot [num_hidden2, n_hidden].T\n",
        "        # output dim: [n_examples, num_hidden2]\n",
        "        z_h2 = np.dot(a_h1, self.weight_h2.T) + self.bias_h2\n",
        "        a_h2 = sigmoid(z_h2)\n",
        "\n",
        "        # Output layer\n",
        "        # input dim: [n_examples, num_hidden2] dot [n_classes, num_hidden2].T\n",
        "        # output dim: [n_examples, n_classes]\n",
        "        z_out = np.dot(a_h2, self.weight_out.T) + self.bias_out\n",
        "        a_out = sigmoid(z_out)\n",
        "        return a_h1, a_h2, a_out\n",
        "\n",
        "    def backward(self, x, a_h1, a_h2, a_out, y):  \n",
        "\n",
        "        #########################\n",
        "        ### Output layer weights\n",
        "        #########################\n",
        "\n",
        "        # onehot encoding\n",
        "        y_onehot = int_to_onehot(y, self.num_classes)\n",
        "\n",
        "        # Part 1: dLoss/dOutWeights\n",
        "        ## = dLoss/dOutAct * dOutAct/dOutNet * dOutNet/dOutWeight\n",
        "        ## where DeltaOut = dLoss/dOutAct * dOutAct/dOutNet\n",
        "        ## for convenient re-use\n",
        "\n",
        "        # input/output dim: [n_examples, n_classes]\n",
        "        d_loss__d_a_out = 2.*(a_out - y_onehot) / y.shape[0]\n",
        "\n",
        "        # input/output dim: [n_examples, n_classes]\n",
        "        d_a_out__d_z_out = a_out * (1. - a_out) # sigmoid derivative\n",
        "\n",
        "        # output dim: [n_examples, n_classes]\n",
        "        delta_out = d_loss__d_a_out * d_a_out__d_z_out # \"delta (rule) placeholder\"\n",
        "\n",
        "        # gradient for output weights\n",
        "\n",
        "        # [n_examples, num_hidden2]\n",
        "        d_z_out__dw_out = a_h2\n",
        "\n",
        "        # input dim: [n_examples, n_classes].T dot [n_examples, num_hidden2]\n",
        "        # output dim: [n_classes, num_hidden2]\n",
        "        d_loss__dw_out = np.dot(delta_out.T, d_z_out__dw_out)\n",
        "        d_loss__db_out = np.sum(delta_out, axis=0)\n",
        "\n",
        "        #################################        \n",
        "        # Part 2: dLoss/dHiddenWeights of layer h2\n",
        "        ## = DeltaOut * dOutNet/dHiddenAct * dHiddenAct/dHiddenNet * dHiddenNet/dWeight\n",
        "\n",
        "        # [n_classes, num_hidden2]\n",
        "        d_z_out__d_a_h2 = self.weight_out\n",
        "\n",
        "        # Input: [n_examples, n_classes] dot [n_classes, num_hidden2]\n",
        "        # output dim: [n_examples, num_hidden2]\n",
        "        d_loss__a_h2 = np.dot(delta_out, d_z_out__d_a_h2)\n",
        "\n",
        "        # [n_examples, num_hidden2]\n",
        "        d_a_h2__d_z_h2 = a_h2 * (1. - a_h2) # sigmoid derivative\n",
        "\n",
        "        # [n_examples, n_hidden]\n",
        "        d_z_h2__d_w_h2 = a_h1\n",
        "\n",
        "        # Input: [n_examples, num_hidden2] * [n_examples, num_hidden2]\n",
        "        # output dim: [n_examples, num_hidden2]\n",
        "        d_loss__d_z_h2 = d_loss__a_h2 * d_a_h2__d_z_h2\n",
        "\n",
        "        # Input: [n_examples, num_hidden2].T dot [n_examples, n_hidden]\n",
        "        # output dim: [num_hidden2, n_hidden]\n",
        "        d_loss__d_w_h2 = np.dot(d_loss__d_z_h2.T, d_z_h2__d_w_h2)\n",
        "        d_loss__d_b_h2 = np.sum(d_loss__d_z_h2, axis=0)\n",
        "\n",
        "        #################################        \n",
        "        # Part 2: dLoss/dHiddenWeights of layer h1\n",
        "        ## = DeltaOut * dOutNet/dHiddenAct * dHiddenAct/dHiddenNet * dHiddenNet/dWeight\n",
        "\n",
        "        # [num_hidden2, n_hidden]\n",
        "        d_z_h2__d_a_h1 = self.weight_h2\n",
        "\n",
        "        # [n_examples, n_hidden]\n",
        "        d_a_h1__d_z_h1 = a_h1 * (1. - a_h1) # sigmoid derivative\n",
        "\n",
        "        # Input: [n_examples, num_hidden2] @ [num_hidden2, n_hidden] * [n_examples, n_hidden]\n",
        "        # output dim: [n_examples, n_hidden]\n",
        "        d_loss__d_z_h1 = (d_loss__d_z_h2 @ d_z_h2__d_a_h1) * d_a_h1__d_z_h1\n",
        "        \n",
        "        # [n_examples, n_features]\n",
        "        d_z_h1__d_w_h1 = x\n",
        "        \n",
        "        # Input dim: [n_examples, n_hidden].T dot [n_examples, n_features]\n",
        "        # output dim: [n_hidden, n_features]\n",
        "        d_loss__d_w_h1 = np.dot(d_loss__d_z_h1.T, d_z_h1__d_w_h1)\n",
        "        d_loss__d_b_h1 = np.sum(d_loss__d_z_h1, axis=0)\n",
        "\n",
        "        return (d_loss__dw_out, d_loss__db_out, \n",
        "                d_loss__d_w_h1, d_loss__d_b_h1,\n",
        "                d_loss__d_w_h2, d_loss__d_b_h2)"
      ],
      "metadata": {
        "id": "M0NLDx34NRKV"
      },
      "execution_count": null,
      "outputs": []
    },
    {
      "cell_type": "code",
      "source": [
        "two_layers_model = TwoLayersMLP(num_features=NUM_FEATURES,\n",
        "                                num_hidden=NUM_HIDDEN,\n",
        "                                num_classes=NUM_CLASSES)\n",
        "\n",
        "sanity_check(two_layers_model, X_test, y_test)"
      ],
      "metadata": {
        "id": "Yau7x-3gNRN-",
        "colab": {
          "base_uri": "https://localhost:8080/"
        },
        "outputId": "d309745e-5e9e-4c7a-f1d4-1afaafc7c6fd"
      },
      "execution_count": null,
      "outputs": [
        {
          "output_type": "stream",
          "name": "stdout",
          "text": [
            "Initial validation MSE: 0.2\n",
            "Initial validation accuracy: 9.0%\n"
          ]
        }
      ]
    },
    {
      "cell_type": "code",
      "source": [
        "np.random.seed(123) # for the training set shuffling\n",
        "\n",
        "epoch_loss, epoch_train_acc, epoch_valid_acc = train_two_layers(two_layers_model, \n",
        "                                                                X_train, y_train, \n",
        "                                                                X_test, y_test, \n",
        "                                                                num_epochs=NUM_EPOCHS, \n",
        "                                                                learning_rate=LR)"
      ],
      "metadata": {
        "colab": {
          "base_uri": "https://localhost:8080/"
        },
        "id": "wwI6ZiZ5cYqY",
        "outputId": "66e85b10-f01b-409d-cb81-9a3dd5f2acdd"
      },
      "execution_count": null,
      "outputs": [
        {
          "output_type": "stream",
          "name": "stdout",
          "text": [
            "Epoch: 001/050 | Train MSE: 0.09 | Train Acc: 21.29% | Valid Acc: 21.53%\n",
            "Epoch: 002/050 | Train MSE: 0.09 | Train Acc: 23.40% | Valid Acc: 23.33%\n",
            "Epoch: 003/050 | Train MSE: 0.08 | Train Acc: 33.60% | Valid Acc: 33.36%\n",
            "Epoch: 004/050 | Train MSE: 0.06 | Train Acc: 59.08% | Valid Acc: 58.91%\n",
            "Epoch: 005/050 | Train MSE: 0.05 | Train Acc: 66.51% | Valid Acc: 66.46%\n",
            "Epoch: 006/050 | Train MSE: 0.04 | Train Acc: 77.70% | Valid Acc: 77.58%\n",
            "Epoch: 007/050 | Train MSE: 0.03 | Train Acc: 83.58% | Valid Acc: 83.26%\n",
            "Epoch: 008/050 | Train MSE: 0.03 | Train Acc: 86.68% | Valid Acc: 86.39%\n",
            "Epoch: 009/050 | Train MSE: 0.02 | Train Acc: 87.80% | Valid Acc: 87.67%\n",
            "Epoch: 010/050 | Train MSE: 0.02 | Train Acc: 88.56% | Valid Acc: 88.29%\n",
            "Epoch: 011/050 | Train MSE: 0.02 | Train Acc: 89.33% | Valid Acc: 88.99%\n",
            "Epoch: 012/050 | Train MSE: 0.02 | Train Acc: 89.81% | Valid Acc: 89.48%\n",
            "Epoch: 013/050 | Train MSE: 0.02 | Train Acc: 90.14% | Valid Acc: 89.74%\n",
            "Epoch: 014/050 | Train MSE: 0.02 | Train Acc: 90.57% | Valid Acc: 90.18%\n",
            "Epoch: 015/050 | Train MSE: 0.02 | Train Acc: 90.80% | Valid Acc: 90.41%\n",
            "Epoch: 016/050 | Train MSE: 0.02 | Train Acc: 91.16% | Valid Acc: 90.74%\n",
            "Epoch: 017/050 | Train MSE: 0.01 | Train Acc: 91.57% | Valid Acc: 90.99%\n",
            "Epoch: 018/050 | Train MSE: 0.01 | Train Acc: 91.74% | Valid Acc: 91.27%\n",
            "Epoch: 019/050 | Train MSE: 0.01 | Train Acc: 91.99% | Valid Acc: 91.54%\n",
            "Epoch: 020/050 | Train MSE: 0.01 | Train Acc: 92.19% | Valid Acc: 91.67%\n",
            "Epoch: 021/050 | Train MSE: 0.01 | Train Acc: 92.33% | Valid Acc: 91.78%\n",
            "Epoch: 022/050 | Train MSE: 0.01 | Train Acc: 92.58% | Valid Acc: 92.03%\n",
            "Epoch: 023/050 | Train MSE: 0.01 | Train Acc: 92.76% | Valid Acc: 92.19%\n",
            "Epoch: 024/050 | Train MSE: 0.01 | Train Acc: 92.86% | Valid Acc: 92.31%\n",
            "Epoch: 025/050 | Train MSE: 0.01 | Train Acc: 93.08% | Valid Acc: 92.49%\n",
            "Epoch: 026/050 | Train MSE: 0.01 | Train Acc: 93.27% | Valid Acc: 92.62%\n",
            "Epoch: 027/050 | Train MSE: 0.01 | Train Acc: 93.44% | Valid Acc: 92.75%\n",
            "Epoch: 028/050 | Train MSE: 0.01 | Train Acc: 93.62% | Valid Acc: 92.90%\n",
            "Epoch: 029/050 | Train MSE: 0.01 | Train Acc: 93.73% | Valid Acc: 92.96%\n",
            "Epoch: 030/050 | Train MSE: 0.01 | Train Acc: 93.80% | Valid Acc: 93.06%\n",
            "Epoch: 031/050 | Train MSE: 0.01 | Train Acc: 93.91% | Valid Acc: 93.23%\n",
            "Epoch: 032/050 | Train MSE: 0.01 | Train Acc: 94.02% | Valid Acc: 93.29%\n",
            "Epoch: 033/050 | Train MSE: 0.01 | Train Acc: 94.26% | Valid Acc: 93.50%\n",
            "Epoch: 034/050 | Train MSE: 0.01 | Train Acc: 94.38% | Valid Acc: 93.63%\n",
            "Epoch: 035/050 | Train MSE: 0.01 | Train Acc: 94.48% | Valid Acc: 93.72%\n",
            "Epoch: 036/050 | Train MSE: 0.01 | Train Acc: 94.63% | Valid Acc: 93.72%\n",
            "Epoch: 037/050 | Train MSE: 0.01 | Train Acc: 94.63% | Valid Acc: 93.87%\n",
            "Epoch: 038/050 | Train MSE: 0.01 | Train Acc: 94.80% | Valid Acc: 94.03%\n",
            "Epoch: 039/050 | Train MSE: 0.01 | Train Acc: 94.81% | Valid Acc: 93.99%\n",
            "Epoch: 040/050 | Train MSE: 0.01 | Train Acc: 95.00% | Valid Acc: 94.04%\n",
            "Epoch: 041/050 | Train MSE: 0.01 | Train Acc: 95.00% | Valid Acc: 94.02%\n",
            "Epoch: 042/050 | Train MSE: 0.01 | Train Acc: 95.17% | Valid Acc: 94.22%\n",
            "Epoch: 043/050 | Train MSE: 0.01 | Train Acc: 95.21% | Valid Acc: 94.41%\n",
            "Epoch: 044/050 | Train MSE: 0.01 | Train Acc: 95.28% | Valid Acc: 94.31%\n",
            "Epoch: 045/050 | Train MSE: 0.01 | Train Acc: 95.36% | Valid Acc: 94.43%\n",
            "Epoch: 046/050 | Train MSE: 0.01 | Train Acc: 95.51% | Valid Acc: 94.45%\n",
            "Epoch: 047/050 | Train MSE: 0.01 | Train Acc: 95.56% | Valid Acc: 94.46%\n",
            "Epoch: 048/050 | Train MSE: 0.01 | Train Acc: 95.61% | Valid Acc: 94.58%\n",
            "Epoch: 049/050 | Train MSE: 0.01 | Train Acc: 95.66% | Valid Acc: 94.62%\n",
            "Epoch: 050/050 | Train MSE: 0.01 | Train Acc: 95.72% | Valid Acc: 94.69%\n"
          ]
        }
      ]
    },
    {
      "cell_type": "code",
      "source": [
        "plot_MSE(epoch_loss, \"TwoLayers Implementation MSE\")\n",
        "plot_accuracy(epoch_train_acc, epoch_valid_acc, \"TwoLayers Implementation Accuracy\")"
      ],
      "metadata": {
        "colab": {
          "base_uri": "https://localhost:8080/",
          "height": 573
        },
        "id": "6bK-jxWdf5q-",
        "outputId": "f5830ec5-391c-453f-c318-cfa700bd34ba"
      },
      "execution_count": null,
      "outputs": [
        {
          "output_type": "display_data",
          "data": {
            "text/plain": [
              "<Figure size 432x288 with 1 Axes>"
            ],
            "image/png": "[encoded data removed]"
          },
          "metadata": {
            "needs_background": "light"
          }
        },
        {
          "output_type": "display_data",
          "data": {
            "text/plain": [
              "<Figure size 432x288 with 1 Axes>"
            ],
            "image/png": "[encoded data removed]"
          },
          "metadata": {
            "needs_background": "light"
          }
        }
      ]
    },
    {
      "cell_type": "code",
      "source": [
        "test_mse, test_acc = compute_mse_and_acc(two_layers_model, X_test, y_test)\n",
        "print(f'Test accuracy: {test_acc*100:.2f}%')"
      ],
      "metadata": {
        "colab": {
          "base_uri": "https://localhost:8080/"
        },
        "id": "4uvxzB36ezz4",
        "outputId": "5479a8bf-9358-4f14-c009-4a28da9f61dd"
      },
      "execution_count": null,
      "outputs": [
        {
          "output_type": "stream",
          "name": "stdout",
          "text": [
            "Test accuracy: 94.69%\n"
          ]
        }
      ]
    },
    {
      "cell_type": "markdown",
      "source": [
        "## 2-layers MLP Evaluation\n",
        "Apply the code of section 2 with the two layers for classifying handwritten digits MNIST dataset using the same full ANN architecture presented in the class (see “Solution 1: A plain deep NN”) and evaluate its prediction performance (macro AUC) using Train(70%)/Test(30%) validation procedure. \n",
        "Compare the predictive performance of section 3 with the original (single hidden layer) code and with the fully connected ANN implemented in Keras/TensorFlow/PyTorch (choose one)."
      ],
      "metadata": {
        "id": "84XPHHBJNPp_"
      }
    },
    {
      "cell_type": "markdown",
      "source": [
        "## Original Single Layer Model from Git"
      ],
      "metadata": {
        "id": "j8VK55I4MQjI"
      }
    },
    {
      "cell_type": "code",
      "source": [
        "class NeuralNetMLP:\n",
        "\n",
        "    def __init__(self, num_features, num_hidden, num_classes, random_seed=123):\n",
        "        super().__init__()\n",
        "        \n",
        "        self.num_classes = num_classes\n",
        "        \n",
        "        # hidden\n",
        "        rng = np.random.RandomState(random_seed)\n",
        "        \n",
        "        self.weight_h = rng.normal(\n",
        "            loc=0.0, scale=0.1, size=(num_hidden, num_features))\n",
        "        self.bias_h = np.zeros(num_hidden)\n",
        "        \n",
        "        # output\n",
        "        self.weight_out = rng.normal(\n",
        "            loc=0.0, scale=0.1, size=(num_classes, num_hidden))\n",
        "        self.bias_out = np.zeros(num_classes)\n",
        "        \n",
        "    def forward(self, x):\n",
        "        # Hidden layer\n",
        "        # input dim: [n_examples, n_features] dot [n_hidden, n_features].T\n",
        "        # output dim: [n_examples, n_hidden]\n",
        "        z_h = np.dot(x, self.weight_h.T) + self.bias_h\n",
        "        a_h = sigmoid(z_h)\n",
        "\n",
        "        # Output layer\n",
        "        # input dim: [n_examples, n_hidden] dot [n_classes, n_hidden].T\n",
        "        # output dim: [n_examples, n_classes]\n",
        "        z_out = np.dot(a_h, self.weight_out.T) + self.bias_out\n",
        "        a_out = sigmoid(z_out)\n",
        "        return a_h, a_out\n",
        "\n",
        "    def backward(self, x, a_h, a_out, y):  \n",
        "    \n",
        "        #########################\n",
        "        ### Output layer weights\n",
        "        #########################\n",
        "        \n",
        "        # onehot encoding\n",
        "        y_onehot = int_to_onehot(y, self.num_classes)\n",
        "\n",
        "        # Part 1: dLoss/dOutWeights\n",
        "        ## = dLoss/dOutAct * dOutAct/dOutNet * dOutNet/dOutWeight\n",
        "        ## where DeltaOut = dLoss/dOutAct * dOutAct/dOutNet\n",
        "        ## for convenient re-use\n",
        "        \n",
        "        # input/output dim: [n_examples, n_classes]\n",
        "        d_loss__d_a_out = 2.*(a_out - y_onehot) / y.shape[0]\n",
        "\n",
        "        # input/output dim: [n_examples, n_classes]\n",
        "        d_a_out__d_z_out = a_out * (1. - a_out) # sigmoid derivative\n",
        "\n",
        "        # output dim: [n_examples, n_classes]\n",
        "        delta_out = d_loss__d_a_out * d_a_out__d_z_out # \"delta (rule) placeholder\"\n",
        "\n",
        "        # gradient for output weights\n",
        "        \n",
        "        # [n_examples, n_hidden]\n",
        "        d_z_out__dw_out = a_h\n",
        "        \n",
        "        # input dim: [n_classes, n_examples] dot [n_examples, n_hidden]\n",
        "        # output dim: [n_classes, n_hidden]\n",
        "        d_loss__dw_out = np.dot(delta_out.T, d_z_out__dw_out)\n",
        "        d_loss__db_out = np.sum(delta_out, axis=0)\n",
        "        \n",
        "\n",
        "        #################################        \n",
        "        # Part 2: dLoss/dHiddenWeights\n",
        "        ## = DeltaOut * dOutNet/dHiddenAct * dHiddenAct/dHiddenNet * dHiddenNet/dWeight\n",
        "        \n",
        "        # [n_classes, n_hidden]\n",
        "        d_z_out__a_h = self.weight_out\n",
        "        \n",
        "        # output dim: [n_examples, n_hidden]\n",
        "        d_loss__a_h = np.dot(delta_out, d_z_out__a_h)\n",
        "        \n",
        "        # [n_examples, n_hidden]\n",
        "        d_a_h__d_z_h = a_h * (1. - a_h) # sigmoid derivative\n",
        "        \n",
        "        # [n_examples, n_features]\n",
        "        d_z_h__d_w_h = x\n",
        "        \n",
        "        # output dim: [n_hidden, n_features]\n",
        "        d_loss__d_w_h = np.dot((d_loss__a_h * d_a_h__d_z_h).T, d_z_h__d_w_h)\n",
        "        d_loss__d_b_h = np.sum((d_loss__a_h * d_a_h__d_z_h), axis=0)\n",
        "\n",
        "        return (d_loss__dw_out, d_loss__db_out, \n",
        "                d_loss__d_w_h, d_loss__d_b_h)"
      ],
      "metadata": {
        "id": "Mq7PqJifMVFB"
      },
      "execution_count": null,
      "outputs": []
    },
    {
      "cell_type": "code",
      "source": [
        "single_model = NeuralNetMLP(num_features=NUM_FEATURES,\n",
        "                     num_hidden=NUM_HIDDEN,\n",
        "                     num_classes=NUM_CLASSES)\n",
        "\n",
        "sanity_check(single_model, X_test, y_test)"
      ],
      "metadata": {
        "colab": {
          "base_uri": "https://localhost:8080/"
        },
        "id": "Hx0cB54EMqvG",
        "outputId": "95dfb153-fd88-4315-c44d-f07cf82986aa"
      },
      "execution_count": null,
      "outputs": [
        {
          "output_type": "stream",
          "name": "stdout",
          "text": [
            "Initial validation MSE: 0.3\n",
            "Initial validation accuracy: 9.2%\n"
          ]
        }
      ]
    },
    {
      "cell_type": "code",
      "source": [
        "epoch_loss, epoch_train_acc, epoch_valid_acc = train_single_layer(single_model, \n",
        "                                                                  X_train, y_train, \n",
        "                                                                  X_test, y_test, \n",
        "                                                                  num_epochs=NUM_EPOCHS, \n",
        "                                                                  learning_rate=LR)"
      ],
      "metadata": {
        "colab": {
          "base_uri": "https://localhost:8080/"
        },
        "id": "i0EZJemJf8J4",
        "outputId": "cd962eff-ff97-40a7-cb35-87d182021589"
      },
      "execution_count": null,
      "outputs": [
        {
          "output_type": "stream",
          "name": "stdout",
          "text": [
            "Epoch: 001/050 | Train MSE: 0.05 | Train Acc: 75.22% | Valid Acc: 75.13%\n",
            "Epoch: 002/050 | Train MSE: 0.03 | Train Acc: 84.59% | Valid Acc: 84.48%\n",
            "Epoch: 003/050 | Train MSE: 0.03 | Train Acc: 87.40% | Valid Acc: 87.31%\n",
            "Epoch: 004/050 | Train MSE: 0.02 | Train Acc: 88.87% | Valid Acc: 88.64%\n",
            "Epoch: 005/050 | Train MSE: 0.02 | Train Acc: 89.79% | Valid Acc: 89.58%\n",
            "Epoch: 006/050 | Train MSE: 0.02 | Train Acc: 90.37% | Valid Acc: 90.18%\n",
            "Epoch: 007/050 | Train MSE: 0.02 | Train Acc: 90.82% | Valid Acc: 90.66%\n",
            "Epoch: 008/050 | Train MSE: 0.02 | Train Acc: 91.21% | Valid Acc: 91.01%\n",
            "Epoch: 009/050 | Train MSE: 0.02 | Train Acc: 91.48% | Valid Acc: 91.32%\n",
            "Epoch: 010/050 | Train MSE: 0.01 | Train Acc: 91.72% | Valid Acc: 91.60%\n",
            "Epoch: 011/050 | Train MSE: 0.01 | Train Acc: 91.98% | Valid Acc: 91.80%\n",
            "Epoch: 012/050 | Train MSE: 0.01 | Train Acc: 92.12% | Valid Acc: 91.85%\n",
            "Epoch: 013/050 | Train MSE: 0.01 | Train Acc: 92.32% | Valid Acc: 92.07%\n",
            "Epoch: 014/050 | Train MSE: 0.01 | Train Acc: 92.52% | Valid Acc: 92.13%\n",
            "Epoch: 015/050 | Train MSE: 0.01 | Train Acc: 92.74% | Valid Acc: 92.33%\n",
            "Epoch: 016/050 | Train MSE: 0.01 | Train Acc: 92.84% | Valid Acc: 92.31%\n",
            "Epoch: 017/050 | Train MSE: 0.01 | Train Acc: 93.07% | Valid Acc: 92.62%\n",
            "Epoch: 018/050 | Train MSE: 0.01 | Train Acc: 93.22% | Valid Acc: 92.70%\n",
            "Epoch: 019/050 | Train MSE: 0.01 | Train Acc: 93.22% | Valid Acc: 92.73%\n",
            "Epoch: 020/050 | Train MSE: 0.01 | Train Acc: 93.39% | Valid Acc: 92.93%\n",
            "Epoch: 021/050 | Train MSE: 0.01 | Train Acc: 93.53% | Valid Acc: 93.00%\n",
            "Epoch: 022/050 | Train MSE: 0.01 | Train Acc: 93.64% | Valid Acc: 93.04%\n",
            "Epoch: 023/050 | Train MSE: 0.01 | Train Acc: 93.74% | Valid Acc: 93.18%\n",
            "Epoch: 024/050 | Train MSE: 0.01 | Train Acc: 93.77% | Valid Acc: 93.23%\n",
            "Epoch: 025/050 | Train MSE: 0.01 | Train Acc: 93.90% | Valid Acc: 93.21%\n",
            "Epoch: 026/050 | Train MSE: 0.01 | Train Acc: 93.98% | Valid Acc: 93.38%\n",
            "Epoch: 027/050 | Train MSE: 0.01 | Train Acc: 94.09% | Valid Acc: 93.52%\n",
            "Epoch: 028/050 | Train MSE: 0.01 | Train Acc: 94.10% | Valid Acc: 93.60%\n",
            "Epoch: 029/050 | Train MSE: 0.01 | Train Acc: 94.18% | Valid Acc: 93.53%\n",
            "Epoch: 030/050 | Train MSE: 0.01 | Train Acc: 94.25% | Valid Acc: 93.62%\n",
            "Epoch: 031/050 | Train MSE: 0.01 | Train Acc: 94.33% | Valid Acc: 93.60%\n",
            "Epoch: 032/050 | Train MSE: 0.01 | Train Acc: 94.45% | Valid Acc: 93.76%\n",
            "Epoch: 033/050 | Train MSE: 0.01 | Train Acc: 94.51% | Valid Acc: 93.87%\n",
            "Epoch: 034/050 | Train MSE: 0.01 | Train Acc: 94.52% | Valid Acc: 93.83%\n",
            "Epoch: 035/050 | Train MSE: 0.01 | Train Acc: 94.66% | Valid Acc: 93.92%\n",
            "Epoch: 036/050 | Train MSE: 0.01 | Train Acc: 94.69% | Valid Acc: 93.98%\n",
            "Epoch: 037/050 | Train MSE: 0.01 | Train Acc: 94.77% | Valid Acc: 94.03%\n",
            "Epoch: 038/050 | Train MSE: 0.01 | Train Acc: 94.80% | Valid Acc: 94.14%\n",
            "Epoch: 039/050 | Train MSE: 0.01 | Train Acc: 94.92% | Valid Acc: 94.17%\n",
            "Epoch: 040/050 | Train MSE: 0.01 | Train Acc: 94.92% | Valid Acc: 94.23%\n",
            "Epoch: 041/050 | Train MSE: 0.01 | Train Acc: 94.95% | Valid Acc: 94.33%\n",
            "Epoch: 042/050 | Train MSE: 0.01 | Train Acc: 95.05% | Valid Acc: 94.26%\n",
            "Epoch: 043/050 | Train MSE: 0.01 | Train Acc: 95.12% | Valid Acc: 94.33%\n",
            "Epoch: 044/050 | Train MSE: 0.01 | Train Acc: 95.11% | Valid Acc: 94.42%\n",
            "Epoch: 045/050 | Train MSE: 0.01 | Train Acc: 95.20% | Valid Acc: 94.45%\n",
            "Epoch: 046/050 | Train MSE: 0.01 | Train Acc: 95.21% | Valid Acc: 94.40%\n",
            "Epoch: 047/050 | Train MSE: 0.01 | Train Acc: 95.31% | Valid Acc: 94.48%\n",
            "Epoch: 048/050 | Train MSE: 0.01 | Train Acc: 95.32% | Valid Acc: 94.45%\n",
            "Epoch: 049/050 | Train MSE: 0.01 | Train Acc: 95.40% | Valid Acc: 94.55%\n",
            "Epoch: 050/050 | Train MSE: 0.01 | Train Acc: 95.36% | Valid Acc: 94.50%\n"
          ]
        }
      ]
    },
    {
      "cell_type": "code",
      "source": [
        "plot_MSE(epoch_loss, \"TwoLayers Implementation MSE\")\n",
        "plot_accuracy(epoch_train_acc, epoch_valid_acc, \"TwoLayers Implementation Accuracy\")"
      ],
      "metadata": {
        "id": "bVCfTO-Lf9IH",
        "colab": {
          "base_uri": "https://localhost:8080/",
          "height": 573
        },
        "outputId": "355a3047-20c3-4de9-db7c-06713d820253"
      },
      "execution_count": null,
      "outputs": [
        {
          "output_type": "display_data",
          "data": {
            "text/plain": [
              "<Figure size 432x288 with 1 Axes>"
            ],
            "image/png": "[encoded data removed]"
          },
          "metadata": {
            "needs_background": "light"
          }
        },
        {
          "output_type": "display_data",
          "data": {
            "text/plain": [
              "<Figure size 432x288 with 1 Axes>"
            ],
            "image/png": "[encoded data removed]"
          },
          "metadata": {
            "needs_background": "light"
          }
        }
      ]
    },
    {
      "cell_type": "code",
      "source": [
        "test_mse, test_acc = compute_mse_and_acc(two_layers_model, X_test, y_test)\n",
        "print(f'Test accuracy: {test_acc*100:.2f}%')"
      ],
      "metadata": {
        "id": "YemJ2pt-f9u8",
        "colab": {
          "base_uri": "https://localhost:8080/"
        },
        "outputId": "e8f0dc96-dc51-4db5-95b3-4f9cef3a7205"
      },
      "execution_count": null,
      "outputs": [
        {
          "output_type": "stream",
          "name": "stdout",
          "text": [
            "Test accuracy: 94.69%\n"
          ]
        }
      ]
    },
    {
      "cell_type": "markdown",
      "source": [
        "## TF Two Layers MLP"
      ],
      "metadata": {
        "id": "6bFxM33TNhD4"
      }
    },
    {
      "cell_type": "code",
      "source": [
        "import tensorflow as tf\n",
        "tf_model = tf.keras.models.Sequential([\n",
        "  tf.keras.layers.Flatten(input_shape=(NUM_FEATURES,)),\n",
        "  tf.keras.layers.Dense(NUM_HIDDEN, activation='sigmoid'),\n",
        "  tf.keras.layers.Dense(NUM_HIDDEN, activation='sigmoid'),\n",
        "  tf.keras.layers.Dense(NUM_CLASSES)\n",
        "])\n",
        "loss_fn = tf.keras.losses.SparseCategoricalCrossentropy(from_logits=True)\n",
        "\n",
        "tf_model.compile(optimizer=tf.keras.optimizers.SGD(learning_rate=LR),\n",
        "              loss=loss_fn,\n",
        "              metrics=['accuracy'])\n",
        "\n",
        "tf_model.fit(X_train, y_train,\n",
        "          validation_data=(X_test, y_test), \n",
        "          epochs=NUM_EPOCHS, \n",
        "          batch_size=BATCH_SIZE)"
      ],
      "metadata": {
        "colab": {
          "base_uri": "https://localhost:8080/"
        },
        "id": "FnU9PDghNXdU",
        "outputId": "9c0728cf-a635-4b2c-feb7-fd1b6b89bf1b"
      },
      "execution_count": null,
      "outputs": [
        {
          "output_type": "stream",
          "name": "stdout",
          "text": [
            "Epoch 1/50\n",
            "490/490 [==============================] - 3s 5ms/step - loss: 1.5081 - accuracy: 0.6273 - val_loss: 0.7800 - val_accuracy: 0.8252\n",
            "Epoch 2/50\n",
            "490/490 [==============================] - 2s 5ms/step - loss: 0.5710 - accuracy: 0.8643 - val_loss: 0.4585 - val_accuracy: 0.8830\n",
            "Epoch 3/50\n",
            "490/490 [==============================] - 2s 4ms/step - loss: 0.4001 - accuracy: 0.8937 - val_loss: 0.3698 - val_accuracy: 0.9004\n",
            "Epoch 4/50\n",
            "490/490 [==============================] - 2s 4ms/step - loss: 0.3355 - accuracy: 0.9069 - val_loss: 0.3279 - val_accuracy: 0.9083\n",
            "Epoch 5/50\n",
            "490/490 [==============================] - 2s 4ms/step - loss: 0.2964 - accuracy: 0.9157 - val_loss: 0.2931 - val_accuracy: 0.9169\n",
            "Epoch 6/50\n",
            "490/490 [==============================] - 2s 4ms/step - loss: 0.2683 - accuracy: 0.9224 - val_loss: 0.2711 - val_accuracy: 0.9211\n",
            "Epoch 7/50\n",
            "490/490 [==============================] - 2s 4ms/step - loss: 0.2461 - accuracy: 0.9298 - val_loss: 0.2478 - val_accuracy: 0.9280\n",
            "Epoch 8/50\n",
            "490/490 [==============================] - 2s 5ms/step - loss: 0.2278 - accuracy: 0.9344 - val_loss: 0.2343 - val_accuracy: 0.9328\n",
            "Epoch 9/50\n",
            "490/490 [==============================] - 2s 4ms/step - loss: 0.2109 - accuracy: 0.9399 - val_loss: 0.2249 - val_accuracy: 0.9338\n",
            "Epoch 10/50\n",
            "490/490 [==============================] - 2s 4ms/step - loss: 0.1971 - accuracy: 0.9436 - val_loss: 0.2067 - val_accuracy: 0.9401\n",
            "Epoch 11/50\n",
            "490/490 [==============================] - 2s 4ms/step - loss: 0.1844 - accuracy: 0.9475 - val_loss: 0.2003 - val_accuracy: 0.9418\n",
            "Epoch 12/50\n",
            "490/490 [==============================] - 2s 4ms/step - loss: 0.1731 - accuracy: 0.9509 - val_loss: 0.1898 - val_accuracy: 0.9440\n",
            "Epoch 13/50\n",
            "490/490 [==============================] - 2s 5ms/step - loss: 0.1632 - accuracy: 0.9542 - val_loss: 0.1883 - val_accuracy: 0.9456\n",
            "Epoch 14/50\n",
            "490/490 [==============================] - 2s 4ms/step - loss: 0.1538 - accuracy: 0.9569 - val_loss: 0.1715 - val_accuracy: 0.9511\n",
            "Epoch 15/50\n",
            "490/490 [==============================] - 2s 4ms/step - loss: 0.1466 - accuracy: 0.9583 - val_loss: 0.1672 - val_accuracy: 0.9520\n",
            "Epoch 16/50\n",
            "490/490 [==============================] - 2s 5ms/step - loss: 0.1391 - accuracy: 0.9611 - val_loss: 0.1613 - val_accuracy: 0.9535\n",
            "Epoch 17/50\n",
            "490/490 [==============================] - 2s 5ms/step - loss: 0.1328 - accuracy: 0.9621 - val_loss: 0.1598 - val_accuracy: 0.9537\n",
            "Epoch 18/50\n",
            "490/490 [==============================] - 2s 5ms/step - loss: 0.1267 - accuracy: 0.9645 - val_loss: 0.1505 - val_accuracy: 0.9561\n",
            "Epoch 19/50\n",
            "490/490 [==============================] - 2s 4ms/step - loss: 0.1209 - accuracy: 0.9659 - val_loss: 0.1484 - val_accuracy: 0.9570\n",
            "Epoch 20/50\n",
            "490/490 [==============================] - 2s 5ms/step - loss: 0.1156 - accuracy: 0.9672 - val_loss: 0.1423 - val_accuracy: 0.9592\n",
            "Epoch 21/50\n",
            "490/490 [==============================] - 2s 4ms/step - loss: 0.1114 - accuracy: 0.9686 - val_loss: 0.1419 - val_accuracy: 0.9579\n",
            "Epoch 22/50\n",
            "490/490 [==============================] - 3s 5ms/step - loss: 0.1068 - accuracy: 0.9704 - val_loss: 0.1378 - val_accuracy: 0.9601\n",
            "Epoch 23/50\n",
            "490/490 [==============================] - 3s 7ms/step - loss: 0.1031 - accuracy: 0.9711 - val_loss: 0.1320 - val_accuracy: 0.9625\n",
            "Epoch 24/50\n",
            "490/490 [==============================] - 2s 5ms/step - loss: 0.0995 - accuracy: 0.9721 - val_loss: 0.1322 - val_accuracy: 0.9609\n",
            "Epoch 25/50\n",
            "490/490 [==============================] - 2s 5ms/step - loss: 0.0959 - accuracy: 0.9728 - val_loss: 0.1280 - val_accuracy: 0.9626\n",
            "Epoch 26/50\n",
            "490/490 [==============================] - 2s 5ms/step - loss: 0.0927 - accuracy: 0.9741 - val_loss: 0.1271 - val_accuracy: 0.9626\n",
            "Epoch 27/50\n",
            "490/490 [==============================] - 2s 4ms/step - loss: 0.0897 - accuracy: 0.9753 - val_loss: 0.1257 - val_accuracy: 0.9635\n",
            "Epoch 28/50\n",
            "490/490 [==============================] - 2s 5ms/step - loss: 0.0871 - accuracy: 0.9759 - val_loss: 0.1239 - val_accuracy: 0.9644\n",
            "Epoch 29/50\n",
            "490/490 [==============================] - 2s 5ms/step - loss: 0.0845 - accuracy: 0.9769 - val_loss: 0.1224 - val_accuracy: 0.9642\n",
            "Epoch 30/50\n",
            "490/490 [==============================] - 3s 6ms/step - loss: 0.0818 - accuracy: 0.9773 - val_loss: 0.1185 - val_accuracy: 0.9655\n",
            "Epoch 31/50\n",
            "490/490 [==============================] - 2s 5ms/step - loss: 0.0790 - accuracy: 0.9784 - val_loss: 0.1225 - val_accuracy: 0.9644\n",
            "Epoch 32/50\n",
            "490/490 [==============================] - 2s 5ms/step - loss: 0.0768 - accuracy: 0.9794 - val_loss: 0.1161 - val_accuracy: 0.9667\n",
            "Epoch 33/50\n",
            "490/490 [==============================] - 2s 5ms/step - loss: 0.0750 - accuracy: 0.9796 - val_loss: 0.1186 - val_accuracy: 0.9649\n",
            "Epoch 34/50\n",
            "490/490 [==============================] - 2s 4ms/step - loss: 0.0727 - accuracy: 0.9803 - val_loss: 0.1182 - val_accuracy: 0.9659\n",
            "Epoch 35/50\n",
            "490/490 [==============================] - 2s 5ms/step - loss: 0.0706 - accuracy: 0.9807 - val_loss: 0.1161 - val_accuracy: 0.9667\n",
            "Epoch 36/50\n",
            "490/490 [==============================] - 2s 5ms/step - loss: 0.0689 - accuracy: 0.9810 - val_loss: 0.1132 - val_accuracy: 0.9664\n",
            "Epoch 37/50\n",
            "490/490 [==============================] - 2s 4ms/step - loss: 0.0668 - accuracy: 0.9820 - val_loss: 0.1191 - val_accuracy: 0.9643\n",
            "Epoch 38/50\n",
            "490/490 [==============================] - 2s 5ms/step - loss: 0.0656 - accuracy: 0.9824 - val_loss: 0.1111 - val_accuracy: 0.9678\n",
            "Epoch 39/50\n",
            "490/490 [==============================] - 2s 5ms/step - loss: 0.0636 - accuracy: 0.9830 - val_loss: 0.1095 - val_accuracy: 0.9677\n",
            "Epoch 40/50\n",
            "490/490 [==============================] - 2s 5ms/step - loss: 0.0619 - accuracy: 0.9830 - val_loss: 0.1130 - val_accuracy: 0.9664\n",
            "Epoch 41/50\n",
            "490/490 [==============================] - 2s 4ms/step - loss: 0.0602 - accuracy: 0.9838 - val_loss: 0.1172 - val_accuracy: 0.9657\n",
            "Epoch 42/50\n",
            "490/490 [==============================] - 2s 4ms/step - loss: 0.0588 - accuracy: 0.9847 - val_loss: 0.1077 - val_accuracy: 0.9681\n",
            "Epoch 43/50\n",
            "490/490 [==============================] - 2s 4ms/step - loss: 0.0574 - accuracy: 0.9849 - val_loss: 0.1078 - val_accuracy: 0.9674\n",
            "Epoch 44/50\n",
            "490/490 [==============================] - 2s 4ms/step - loss: 0.0557 - accuracy: 0.9859 - val_loss: 0.1107 - val_accuracy: 0.9668\n",
            "Epoch 45/50\n",
            "490/490 [==============================] - 2s 4ms/step - loss: 0.0549 - accuracy: 0.9852 - val_loss: 0.1084 - val_accuracy: 0.9679\n",
            "Epoch 46/50\n",
            "490/490 [==============================] - 2s 4ms/step - loss: 0.0535 - accuracy: 0.9864 - val_loss: 0.1086 - val_accuracy: 0.9676\n",
            "Epoch 47/50\n",
            "490/490 [==============================] - 2s 5ms/step - loss: 0.0518 - accuracy: 0.9869 - val_loss: 0.1091 - val_accuracy: 0.9670\n",
            "Epoch 48/50\n",
            "490/490 [==============================] - 2s 4ms/step - loss: 0.0505 - accuracy: 0.9871 - val_loss: 0.1111 - val_accuracy: 0.9665\n",
            "Epoch 49/50\n",
            "490/490 [==============================] - 2s 4ms/step - loss: 0.0498 - accuracy: 0.9871 - val_loss: 0.1057 - val_accuracy: 0.9683\n",
            "Epoch 50/50\n",
            "490/490 [==============================] - 2s 4ms/step - loss: 0.0485 - accuracy: 0.9873 - val_loss: 0.1074 - val_accuracy: 0.9680\n"
          ]
        },
        {
          "output_type": "execute_result",
          "data": {
            "text/plain": [
              "<keras.callbacks.History at 0x7fa7054f8190>"
            ]
          },
          "metadata": {},
          "execution_count": 34
        }
      ]
    },
    {
      "cell_type": "markdown",
      "source": [
        "## Compare Models on Macro AUC"
      ],
      "metadata": {
        "id": "UieBpAn6pdgt"
      }
    },
    {
      "cell_type": "code",
      "source": [
        "import pandas as pd\n",
        "def stable_softmax(X):\n",
        "    exps = np.exp((X.T - np.max(X, axis=1)).T)\n",
        "    return (exps.T / (np.sum(exps, axis=1))).T"
      ],
      "metadata": {
        "id": "vbmaBjhxKpq7"
      },
      "execution_count": null,
      "outputs": []
    },
    {
      "cell_type": "code",
      "source": [
        "from sklearn.metrics import roc_auc_score\n",
        "two_layers_pred = stable_softmax(two_layers_model.forward(X_test)[-1])\n",
        "single_pred = stable_softmax(single_model.forward(X_test)[-1])\n",
        "tf_pred = tf.keras.Sequential([tf_model, tf.keras.layers.Softmax()]).predict(X_test)"
      ],
      "metadata": {
        "id": "pk4cyG0vQZXd"
      },
      "execution_count": null,
      "outputs": []
    },
    {
      "cell_type": "code",
      "source": [
        "two_auc = roc_auc_score(y_test, two_layers_pred, multi_class='ovr')\n",
        "single_auc = roc_auc_score(y_test, single_pred, multi_class='ovr')\n",
        "tf_auc = roc_auc_score(y_test, tf_pred, multi_class='ovr')\n",
        "pd.DataFrame([two_auc, single_auc, tf_auc], index=['custom_two_layers', 'custom_single_layer', 'tf_two_layer'])"
      ],
      "metadata": {
        "id": "7m010R4GQWDr",
        "colab": {
          "base_uri": "https://localhost:8080/",
          "height": 143
        },
        "outputId": "ca88026a-2866-4068-d760-fd67580f7788"
      },
      "execution_count": null,
      "outputs": [
        {
          "output_type": "execute_result",
          "data": {
            "text/plain": [
              "                            0\n",
              "custom_two_layers    0.996590\n",
              "custom_single_layer  0.996312\n",
              "tf_two_layer         0.999011"
            ],
            "text/html": [
              "\n",
              "  <div id=\"df-92e25494-d895-439a-9402-6b16987d54c5\">\n",
              "    <div class=\"colab-df-container\">\n",
              "      <div>\n",
              "<style scoped>\n",
              "    .dataframe tbody tr th:only-of-type {\n",
              "        vertical-align: middle;\n",
              "    }\n",
              "\n",
              "    .dataframe tbody tr th {\n",
              "        vertical-align: top;\n",
              "    }\n",
              "\n",
              "    .dataframe thead th {\n",
              "        text-align: right;\n",
              "    }\n",
              "</style>\n",
              "<table border=\"1\" class=\"dataframe\">\n",
              "  <thead>\n",
              "    <tr style=\"text-align: right;\">\n",
              "      <th></th>\n",
              "      <th>0</th>\n",
              "    </tr>\n",
              "  </thead>\n",
              "  <tbody>\n",
              "    <tr>\n",
              "      <th>custom_two_layers</th>\n",
              "      <td>0.996590</td>\n",
              "    </tr>\n",
              "    <tr>\n",
              "      <th>custom_single_layer</th>\n",
              "      <td>0.996312</td>\n",
              "    </tr>\n",
              "    <tr>\n",
              "      <th>tf_two_layer</th>\n",
              "      <td>0.999011</td>\n",
              "    </tr>\n",
              "  </tbody>\n",
              "</table>\n",
              "</div>\n",
              "      <button class=\"colab-df-convert\" onclick=\"convertToInteractive('df-92e25494-d895-439a-9402-6b16987d54c5')\"\n",
              "              title=\"Convert this dataframe to an interactive table.\"\n",
              "              style=\"display:none;\">\n",
              "        \n",
              "  <svg xmlns=\"http://www.w3.org/2000/svg\" height=\"24px\"viewBox=\"0 0 24 24\"\n",
              "       width=\"24px\">\n",
              "    <path d=\"M0 0h24v24H0V0z\" fill=\"none\"/>\n",
              "    <path d=\"M18.56 5.44l.94 2.06.94-2.06 2.06-.94-2.06-.94-.94-2.06-.94 2.06-2.06.94zm-11 1L8.5 8.5l.94-2.06 2.06-.94-2.06-.94L8.5 2.5l-.94 2.06-2.06.94zm10 10l.94 2.06.94-2.06 2.06-.94-2.06-.94-.94-2.06-.94 2.06-2.06.94z\"/><path d=\"M17.41 7.96l-1.37-1.37c-.4-.4-.92-.59-1.43-.59-.52 0-1.04.2-1.43.59L10.3 9.45l-7.72 7.72c-.78.78-.78 2.05 0 2.83L4 21.41c.39.39.9.59 1.41.59.51 0 1.02-.2 1.41-.59l7.78-7.78 2.81-2.81c.8-.78.8-2.07 0-2.86zM5.41 20L4 18.59l7.72-7.72 1.47 1.35L5.41 20z\"/>\n",
              "  </svg>\n",
              "      </button>\n",
              "      \n",
              "  <style>\n",
              "    .colab-df-container {\n",
              "      display:flex;\n",
              "      flex-wrap:wrap;\n",
              "      gap: 12px;\n",
              "    }\n",
              "\n",
              "    .colab-df-convert {\n",
              "      background-color: #E8F0FE;\n",
              "      border: none;\n",
              "      border-radius: 50%;\n",
              "      cursor: pointer;\n",
              "      display: none;\n",
              "      fill: #1967D2;\n",
              "      height: 32px;\n",
              "      padding: 0 0 0 0;\n",
              "      width: 32px;\n",
              "    }\n",
              "\n",
              "    .colab-df-convert:hover {\n",
              "      background-color: #E2EBFA;\n",
              "      box-shadow: 0px 1px 2px rgba(60, 64, 67, 0.3), 0px 1px 3px 1px rgba(60, 64, 67, 0.15);\n",
              "      fill: #174EA6;\n",
              "    }\n",
              "\n",
              "    [theme=dark] .colab-df-convert {\n",
              "      background-color: #3B4455;\n",
              "      fill: #D2E3FC;\n",
              "    }\n",
              "\n",
              "    [theme=dark] .colab-df-convert:hover {\n",
              "      background-color: #434B5C;\n",
              "      box-shadow: 0px 1px 3px 1px rgba(0, 0, 0, 0.15);\n",
              "      filter: drop-shadow(0px 1px 2px rgba(0, 0, 0, 0.3));\n",
              "      fill: #FFFFFF;\n",
              "    }\n",
              "  </style>\n",
              "\n",
              "      <script>\n",
              "        const buttonEl =\n",
              "          document.querySelector('#df-92e25494-d895-439a-9402-6b16987d54c5 button.colab-df-convert');\n",
              "        buttonEl.style.display =\n",
              "          google.colab.kernel.accessAllowed ? 'block' : 'none';\n",
              "\n",
              "        async function convertToInteractive(key) {\n",
              "          const element = document.querySelector('#df-92e25494-d895-439a-9402-6b16987d54c5');\n",
              "          const dataTable =\n",
              "            await google.colab.kernel.invokeFunction('convertToInteractive',\n",
              "                                                     [key], {});\n",
              "          if (!dataTable) return;\n",
              "\n",
              "          const docLinkHtml = 'Like what you see? Visit the ' +\n",
              "            '<a target=\"_blank\" href=https://colab.research.google.com/notebooks/data_table.ipynb>data table notebook</a>'\n",
              "            + ' to learn more about interactive tables.';\n",
              "          element.innerHTML = '';\n",
              "          dataTable['output_type'] = 'display_data';\n",
              "          await google.colab.output.renderOutput(dataTable, element);\n",
              "          const docLink = document.createElement('div');\n",
              "          docLink.innerHTML = docLinkHtml;\n",
              "          element.appendChild(docLink);\n",
              "        }\n",
              "      </script>\n",
              "    </div>\n",
              "  </div>\n",
              "  "
            ]
          },
          "metadata": {},
          "execution_count": 103
        }
      ]
    },
    {
      "cell_type": "markdown",
      "source": [
        "# Part 2 (60 points) - Aim: Practice the usage of CNN (Convolutional Neural Network). \n",
        "\n",
        "* In this part you will use at least two pretrained CNNs to identify the type of a flower that appears in an image. You will need to choose your pretrained models and use Transfer Learning to associate flower images into their corresponding categories.\n",
        "\n",
        "We would like the model to classify the image into its category (the dandelions category in this example). The model should be probabilistic and returns the probability of a flower belonging to each of the categories.\n"
      ],
      "metadata": {
        "id": "P3gGsWe6nhPb"
      }
    },
    {
      "cell_type": "code",
      "source": [
        "# Mount our shared Folder in Drive\n",
        "base_path = \"/content/drive/MyDrive/MastersDegree/ML/ex3/data\"\n",
        "# base_path = # Natan Path in Drive"
      ],
      "metadata": {
        "id": "APLMR96rCbL_"
      },
      "execution_count": null,
      "outputs": []
    },
    {
      "cell_type": "code",
      "source": [
        "# Load Data and Labels, Split to train, validation and test.\n",
        "import scipy.io\n",
        "mat = scipy.io.loadmat(base_path + '/imagelabels.mat')\n",
        "mat['labels']"
      ],
      "metadata": {
        "id": "ZiI-pktAAKAK"
      },
      "execution_count": null,
      "outputs": []
    },
    {
      "cell_type": "code",
      "source": [
        "# Create Train / Test Split\n",
        "DATA_SIZE = 8189\n",
        "\n",
        "test_indices = np.random.choice(np.arange(DATA_SIZE), round(0.3 * DATA_SIZE))\n",
        "train_indices = np.delete(np.arange(DATA_SIZE), test_indices)\n",
        "# Be better dump this split indices for later use."
      ],
      "metadata": {
        "id": "TNA_qOe-DVau"
      },
      "execution_count": null,
      "outputs": []
    },
    {
      "cell_type": "code",
      "source": [
        "# flowers_df = \n",
        "import pathlib\n",
        "dataset_path = base_path + '/102_flowers.tgz'\n",
        "\n",
        "data_dir = pathlib.Path(dataset_path)\n",
        "\n",
        "image_count = len(list(data_dir.glob('*/*.jpg')))\n",
        "print(image_count)"
      ],
      "metadata": {
        "id": "4ozJ4-JBEoEf"
      },
      "execution_count": null,
      "outputs": []
    },
    {
      "cell_type": "code",
      "source": [
        "PIL.Image.open(str(roses[0]))\n"
      ],
      "metadata": {
        "id": "3S4HH3wWF4Tm"
      },
      "execution_count": null,
      "outputs": []
    },
    {
      "cell_type": "markdown",
      "source": [
        "## Stand Alone (Frozen) Feature Extractor"
      ],
      "metadata": {
        "id": "xqQKkvqzASFe"
      }
    },
    {
      "cell_type": "code",
      "execution_count": null,
      "metadata": {
        "id": "gcNuuOsCMqwn"
      },
      "outputs": [],
      "source": [
        "# example of using the vgg16 model as a feature extraction model\n",
        "from keras.preprocessing.image import load_img\n",
        "from keras.preprocessing.image import img_to_array\n",
        "from keras.applications.vgg16 import preprocess_input\n",
        "from keras.applications.vgg16 import decode_predictions\n",
        "from keras.applications.vgg16 import VGG16\n",
        "from keras.models import Model\n",
        "\n",
        "# load an image from file\n",
        "image = load_img('dog.jpg', target_size=(224, 224))\n",
        "# convert the image pixels to a numpy array\n",
        "image = img_to_array(image)\n",
        "# reshape data for the model\n",
        "image = image.reshape((1, image.shape[0], image.shape[1], image.shape[2]))\n",
        "# prepare the image for the VGG model\n",
        "image = preprocess_input(image)\n",
        "\n",
        "# load model\n",
        "model = VGG16()\n",
        "# remove the output layer\n",
        "model = Model(inputs=model.inputs, outputs=model.layers[-2].output)\n",
        "# get extracted features\n",
        "features = model.predict(image)"
      ]
    },
    {
      "cell_type": "markdown",
      "source": [
        "## Feature Extractor Within Model (Finetune weights)"
      ],
      "metadata": {
        "id": "G-MnuR8-AWkX"
      }
    },
    {
      "cell_type": "code",
      "source": [
        "# example of tending the vgg16 model\n",
        "from keras.applications.vgg16 import VGG16\n",
        "from keras.models import Model\n",
        "from keras.layers import Dense\n",
        "from keras.layers import Flatten\n",
        "# load model without classifier layers\n",
        "model = VGG16(include_top=False, input_shape=(300, 300, 3))\n",
        "# mark loaded layers as not trainable\n",
        "for layer in model.layers:\n",
        "\tlayer.trainable = False\n",
        "  \n",
        "# add new classifier layers\n",
        "flat1 = Flatten()(model.layers[-1].output)\n",
        "class1 = Dense(1024, activation='relu')(flat1)\n",
        "output = Dense(10, activation='softmax')(class1)\n",
        "# define new model\n",
        "model = Model(inputs=model.inputs, outputs=output)\n",
        "# summarize\n",
        "model.summary()\n",
        "# ..."
      ],
      "metadata": {
        "id": "tuTmD8JT1KFi"
      },
      "execution_count": null,
      "outputs": []
    },
    {
      "cell_type": "code",
      "source": [
        ""
      ],
      "metadata": {
        "id": "PT8ByEWgtz_k"
      },
      "execution_count": null,
      "outputs": []
    },
    {
      "cell_type": "markdown",
      "source": [
        "## Important Info and links\n",
        "* More Data - https://www.tensorflow.org/tutorials/load_data/images\n",
        "* Model (and datasets?) - [hugging face](https://huggingface.co)"
      ],
      "metadata": {
        "id": "AyqysvJGsHxc"
      }
    },
    {
      "cell_type": "code",
      "source": [
        ""
      ],
      "metadata": {
        "id": "hOol4kTAsRjh"
      },
      "execution_count": null,
      "outputs": []
    }
  ]
}